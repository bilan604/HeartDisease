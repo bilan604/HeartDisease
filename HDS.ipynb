{
 "cells": [
  {
   "cell_type": "markdown",
   "id": "263d7236-8af1-47ba-8880-aaea0e2a2d2f",
   "metadata": {},
   "source": [
    "# Data processing and functions for STA160 Midterm 1  \n",
    "#### Project Link: https://www.kaggle.com/datasets/alexteboul/heart-disease-health-indicators-dataset\n",
    "#### Author: Xing Yang Lan"
   ]
  },
  {
   "cell_type": "code",
   "execution_count": 1,
   "id": "2d2c8d81-4f8a-47d3-ad57-6c546579f2f1",
   "metadata": {},
   "outputs": [],
   "source": [
    "import math\n",
    "import random\n",
    "import pandas as pd\n",
    "import numpy as np\n",
    "import matplotlib.pyplot as plt\n",
    "from timeit import default_timer\n",
    "from numpy import unique\n",
    "from numpy import sqrt, dot, array, diagonal, mean, transpose\n",
    "from numpy import transpose, diag, dot\n",
    "from numpy.linalg import svd, inv, qr\n",
    "\n",
    "\n",
    "from sklearn.preprocessing import OneHotEncoder\n",
    "from sklearn.metrics import mean_squared_error\n",
    "from sklearn.model_selection import train_test_split\n",
    "\n",
    "from sklearn.linear_model import LinearRegression, Lasso, Ridge\n",
    "from sklearn.linear_model import LogisticRegression\n",
    "from sklearn.neural_network import MLPClassifier, MLPRegressor\n",
    "from sklearn.ensemble import AdaBoostRegressor\n",
    "from sklearn.ensemble import RandomForestClassifier, RandomForestRegressor \n",
    "from sklearn.ensemble import RandomForestClassifier, RandomForestRegressor\n",
    "from sklearn.ensemble import GradientBoostingClassifier\n",
    "from sklearn.ensemble import GradientBoostingRegressor"
   ]
  },
  {
   "cell_type": "code",
   "execution_count": 2,
   "id": "91a6e553-9eef-41c5-bd95-3a9938e43b56",
   "metadata": {},
   "outputs": [],
   "source": [
    "random.seed(1)"
   ]
  },
  {
   "cell_type": "code",
   "execution_count": 3,
   "id": "78c21481-32c9-4869-9c5e-7fc2aaf013d2",
   "metadata": {},
   "outputs": [
    {
     "data": {
      "text/html": [
       "<div>\n",
       "<style scoped>\n",
       "    .dataframe tbody tr th:only-of-type {\n",
       "        vertical-align: middle;\n",
       "    }\n",
       "\n",
       "    .dataframe tbody tr th {\n",
       "        vertical-align: top;\n",
       "    }\n",
       "\n",
       "    .dataframe thead th {\n",
       "        text-align: right;\n",
       "    }\n",
       "</style>\n",
       "<table border=\"1\" class=\"dataframe\">\n",
       "  <thead>\n",
       "    <tr style=\"text-align: right;\">\n",
       "      <th></th>\n",
       "      <th>HeartDiseaseorAttack</th>\n",
       "      <th>HighBP</th>\n",
       "      <th>HighChol</th>\n",
       "      <th>CholCheck</th>\n",
       "      <th>BMI</th>\n",
       "      <th>Smoker</th>\n",
       "      <th>Stroke</th>\n",
       "      <th>Diabetes</th>\n",
       "      <th>PhysActivity</th>\n",
       "      <th>Fruits</th>\n",
       "      <th>...</th>\n",
       "      <th>AnyHealthcare</th>\n",
       "      <th>NoDocbcCost</th>\n",
       "      <th>GenHlth</th>\n",
       "      <th>MentHlth</th>\n",
       "      <th>PhysHlth</th>\n",
       "      <th>DiffWalk</th>\n",
       "      <th>Sex</th>\n",
       "      <th>Age</th>\n",
       "      <th>Education</th>\n",
       "      <th>Income</th>\n",
       "    </tr>\n",
       "  </thead>\n",
       "  <tbody>\n",
       "    <tr>\n",
       "      <th>0</th>\n",
       "      <td>0.0</td>\n",
       "      <td>1.0</td>\n",
       "      <td>1.0</td>\n",
       "      <td>1.0</td>\n",
       "      <td>40.0</td>\n",
       "      <td>1.0</td>\n",
       "      <td>0.0</td>\n",
       "      <td>0.0</td>\n",
       "      <td>0.0</td>\n",
       "      <td>0.0</td>\n",
       "      <td>...</td>\n",
       "      <td>1.0</td>\n",
       "      <td>0.0</td>\n",
       "      <td>5.0</td>\n",
       "      <td>18.0</td>\n",
       "      <td>15.0</td>\n",
       "      <td>1.0</td>\n",
       "      <td>0.0</td>\n",
       "      <td>9.0</td>\n",
       "      <td>4.0</td>\n",
       "      <td>3.0</td>\n",
       "    </tr>\n",
       "    <tr>\n",
       "      <th>1</th>\n",
       "      <td>0.0</td>\n",
       "      <td>0.0</td>\n",
       "      <td>0.0</td>\n",
       "      <td>0.0</td>\n",
       "      <td>25.0</td>\n",
       "      <td>1.0</td>\n",
       "      <td>0.0</td>\n",
       "      <td>0.0</td>\n",
       "      <td>1.0</td>\n",
       "      <td>0.0</td>\n",
       "      <td>...</td>\n",
       "      <td>0.0</td>\n",
       "      <td>1.0</td>\n",
       "      <td>3.0</td>\n",
       "      <td>0.0</td>\n",
       "      <td>0.0</td>\n",
       "      <td>0.0</td>\n",
       "      <td>0.0</td>\n",
       "      <td>7.0</td>\n",
       "      <td>6.0</td>\n",
       "      <td>1.0</td>\n",
       "    </tr>\n",
       "    <tr>\n",
       "      <th>2</th>\n",
       "      <td>0.0</td>\n",
       "      <td>1.0</td>\n",
       "      <td>1.0</td>\n",
       "      <td>1.0</td>\n",
       "      <td>28.0</td>\n",
       "      <td>0.0</td>\n",
       "      <td>0.0</td>\n",
       "      <td>0.0</td>\n",
       "      <td>0.0</td>\n",
       "      <td>1.0</td>\n",
       "      <td>...</td>\n",
       "      <td>1.0</td>\n",
       "      <td>1.0</td>\n",
       "      <td>5.0</td>\n",
       "      <td>30.0</td>\n",
       "      <td>30.0</td>\n",
       "      <td>1.0</td>\n",
       "      <td>0.0</td>\n",
       "      <td>9.0</td>\n",
       "      <td>4.0</td>\n",
       "      <td>8.0</td>\n",
       "    </tr>\n",
       "    <tr>\n",
       "      <th>3</th>\n",
       "      <td>0.0</td>\n",
       "      <td>1.0</td>\n",
       "      <td>0.0</td>\n",
       "      <td>1.0</td>\n",
       "      <td>27.0</td>\n",
       "      <td>0.0</td>\n",
       "      <td>0.0</td>\n",
       "      <td>0.0</td>\n",
       "      <td>1.0</td>\n",
       "      <td>1.0</td>\n",
       "      <td>...</td>\n",
       "      <td>1.0</td>\n",
       "      <td>0.0</td>\n",
       "      <td>2.0</td>\n",
       "      <td>0.0</td>\n",
       "      <td>0.0</td>\n",
       "      <td>0.0</td>\n",
       "      <td>0.0</td>\n",
       "      <td>11.0</td>\n",
       "      <td>3.0</td>\n",
       "      <td>6.0</td>\n",
       "    </tr>\n",
       "    <tr>\n",
       "      <th>4</th>\n",
       "      <td>0.0</td>\n",
       "      <td>1.0</td>\n",
       "      <td>1.0</td>\n",
       "      <td>1.0</td>\n",
       "      <td>24.0</td>\n",
       "      <td>0.0</td>\n",
       "      <td>0.0</td>\n",
       "      <td>0.0</td>\n",
       "      <td>1.0</td>\n",
       "      <td>1.0</td>\n",
       "      <td>...</td>\n",
       "      <td>1.0</td>\n",
       "      <td>0.0</td>\n",
       "      <td>2.0</td>\n",
       "      <td>3.0</td>\n",
       "      <td>0.0</td>\n",
       "      <td>0.0</td>\n",
       "      <td>0.0</td>\n",
       "      <td>11.0</td>\n",
       "      <td>5.0</td>\n",
       "      <td>4.0</td>\n",
       "    </tr>\n",
       "  </tbody>\n",
       "</table>\n",
       "<p>5 rows × 22 columns</p>\n",
       "</div>"
      ],
      "text/plain": [
       "   HeartDiseaseorAttack  HighBP  HighChol  CholCheck   BMI  Smoker  Stroke  \\\n",
       "0                   0.0     1.0       1.0        1.0  40.0     1.0     0.0   \n",
       "1                   0.0     0.0       0.0        0.0  25.0     1.0     0.0   \n",
       "2                   0.0     1.0       1.0        1.0  28.0     0.0     0.0   \n",
       "3                   0.0     1.0       0.0        1.0  27.0     0.0     0.0   \n",
       "4                   0.0     1.0       1.0        1.0  24.0     0.0     0.0   \n",
       "\n",
       "   Diabetes  PhysActivity  Fruits  ...  AnyHealthcare  NoDocbcCost  GenHlth  \\\n",
       "0       0.0           0.0     0.0  ...            1.0          0.0      5.0   \n",
       "1       0.0           1.0     0.0  ...            0.0          1.0      3.0   \n",
       "2       0.0           0.0     1.0  ...            1.0          1.0      5.0   \n",
       "3       0.0           1.0     1.0  ...            1.0          0.0      2.0   \n",
       "4       0.0           1.0     1.0  ...            1.0          0.0      2.0   \n",
       "\n",
       "   MentHlth  PhysHlth  DiffWalk  Sex   Age  Education  Income  \n",
       "0      18.0      15.0       1.0  0.0   9.0        4.0     3.0  \n",
       "1       0.0       0.0       0.0  0.0   7.0        6.0     1.0  \n",
       "2      30.0      30.0       1.0  0.0   9.0        4.0     8.0  \n",
       "3       0.0       0.0       0.0  0.0  11.0        3.0     6.0  \n",
       "4       3.0       0.0       0.0  0.0  11.0        5.0     4.0  \n",
       "\n",
       "[5 rows x 22 columns]"
      ]
     },
     "execution_count": 3,
     "metadata": {},
     "output_type": "execute_result"
    }
   ],
   "source": [
    "df = pd.read_csv(\"heart_disease_health_indicators_BRFSS2015.csv\")"
   ]
  },
  {
   "cell_type": "code",
   "execution_count": 4,
   "id": "738efeb7-6418-4f0c-b0d6-72d37d01a47d",
   "metadata": {},
   "outputs": [
    {
     "name": "stdout",
     "output_type": "stream",
     "text": [
      "There are 22 variables,\n",
      "Index(['HeartDiseaseorAttack', 'HighBP', 'HighChol', 'CholCheck', 'BMI',\n",
      "       'Smoker', 'Stroke', 'Diabetes', 'PhysActivity', 'Fruits', 'Veggies',\n",
      "       'HvyAlcoholConsump', 'AnyHealthcare', 'NoDocbcCost', 'GenHlth',\n",
      "       'MentHlth', 'PhysHlth', 'DiffWalk', 'Sex', 'Age', 'Education',\n",
      "       'Income'],\n",
      "      dtype='object')\n"
     ]
    }
   ],
   "source": [
    "colNames = df.columns\n",
    "print(f\"There are {len(colNames)} variables,\\n{colNames}\")"
   ]
  },
  {
   "cell_type": "code",
   "execution_count": 5,
   "id": "167b98a6-6bbd-43f1-b8eb-61208925a930",
   "metadata": {},
   "outputs": [
    {
     "name": "stdout",
     "output_type": "stream",
     "text": [
      "The first column is the Y/Response Variable HeartDiseaseorAttack\n",
      "229787 23893\n"
     ]
    }
   ],
   "source": [
    "# kaggle: \"229,787 respondents do not have/have not had heart disease while 23,893 have had heart disease.\"\n",
    "print(f\"The first column is the Y/Response Variable {colNames[0]}\")\n",
    "# check that 0 means no heart disease and 1 means heart disease\n",
    "print(list(df[\"HeartDiseaseorAttack\"]).count(0), list(df[\"HeartDiseaseorAttack\"]).count(1))"
   ]
  },
  {
   "cell_type": "code",
   "execution_count": 6,
   "id": "5329d9ac-415b-42ac-b7ac-dd86507ed3e0",
   "metadata": {},
   "outputs": [],
   "source": [
    "dfX = df.copy().drop(columns=[\"HeartDiseaseorAttack\"])\n",
    "# dfX is a pandas DataFrame now (pandas.core.frame.DataFrame)\n",
    "\n",
    "dfY = df[\"HeartDiseaseorAttack\"]\n",
    "# dfY is a series now (pandas.core.series.Series)\n",
    "\n",
    "X = array(dfX)\n",
    "# X is a \"matrix\" list (\"np.ndarray\") of lists (\"np.ndarray\") where each list inside is the 21 Predictor Variables\n",
    "Y = array(dfY).reshape(len(dfY), 1)\n",
    "# Y is a list (\"np.ndarray\") of lists (\"np.ndarray\") that is basically [[0],[0],[0],[0],[0]...]'\n",
    "\n",
    "X_train, X_test, Y_train, Y_test = train_test_split(X, Y, test_size=0.30, random_state=1)"
   ]
  },
  {
   "cell_type": "code",
   "execution_count": 7,
   "id": "7be190e1-0189-40c0-a521-a8d866c2be2a",
   "metadata": {},
   "outputs": [
    {
     "name": "stdout",
     "output_type": "stream",
     "text": [
      "True\n"
     ]
    }
   ],
   "source": [
    "# This is a check. This should be \"True\" ; the first 60 observations of the first variable of X is the first response variable\n",
    "print(all(X[0:60,0] == df[colNames[1]][:60]))"
   ]
  },
  {
   "cell_type": "markdown",
   "id": "7bfee562-367b-45f5-bf11-8e11bc2629a0",
   "metadata": {},
   "source": [
    "# Baseline Model"
   ]
  },
  {
   "cell_type": "code",
   "execution_count": 8,
   "id": "1d72c68c-7364-45f8-8022-f6df60f4aeb9",
   "metadata": {},
   "outputs": [],
   "source": [
    "def check(vec):\n",
    "    # It will use np.ravel() on pred/Y if it is a list of lists\n",
    "    # ravel() basically turns [[0],[0],[0],[0]] into [0,0,0,0] so you don't get the annoying warning sklearn messages\n",
    "    if type(vec[0]) not in (int, float, np.float64):\n",
    "        return np.ravel(vec)\n",
    "    return vec\n",
    "\n",
    "def accuracy(Y_pr, Y_ts):\n",
    "    # It returns the percent correct for your predictions\n",
    "    Y_pr, Y_ts = check(Y_pr), check(Y_ts)\n",
    "    return sum([1 if pr == ts else 0 for pr,ts in zip(Y_pr, Y_ts)]) / len(Y_pr)\n",
    "\n",
    "def confusion(Y_pr, Y_ts):\n",
    "    # returns a confusion table\n",
    "    Y_pr, Y_ts = check(Y_pr), check(Y_ts)\n",
    "    TP, FP, TN, FN = 0, 0, 0, 0\n",
    "    dd = {(1,1):TP, (1,0):FP, (0,1):FN, (0,0):TN}\n",
    "    for pr, ts in zip(Y_pr, Y_ts):\n",
    "        dd[(pr,ts)] += 1\n",
    "    return {\"TP\": dd[(1,1)], \"FP\": dd[(1,0)], \"FN\": dd[(0,1)], \"TN\": dd[(0,0)]}\n",
    "\n",
    "def convertToBinary(Y_pr, cuttoffPercentile=85):\n",
    "    # an arbituary function that allows you to use regressors\n",
    "    cutoff = np.percentile(Y_pr, cuttoffPercentile)\n",
    "    return [1.0 if pr > cutoff else 0.0 for pr in Y_pr]\n",
    "\n",
    "# Run a model. Literally any model that does not need to one-hot-encode\n",
    "def runModel(model, __X, __Y, cuttoffPercentile=90):\n",
    "    __X_train, __X_test, __Y_train, __Y_test = train_test_split(__X, __Y, test_size=0.30, random_state=1)\n",
    "    model.fit(__X_train, np.ravel(__Y_train))\n",
    "    modelPred = model.predict(__X_test)\n",
    "    if any([0.000001 < pr < 0.99999 or pr < -0.000001 for pr in modelPred]):\n",
    "        modelPred = convertToBinary(modelPred, cuttoffPercentile)\n",
    "    print(\"Accuracy:\", accuracy(modelPred, __Y_test))\n",
    "    print(\"MSE:\", mean_squared_error(modelPred, __Y_test))\n",
    "    print(\"Confusion:\", confusion(modelPred, __Y_test))\n",
    "    return model\n",
    "\n",
    "\n",
    "def runModelGBR(model, __X, __Y, cuttoffPercentile=85):\n",
    "    __X_train, __X_test, __Y_train, __Y_test = train_test_split(__X, __Y, test_size=0.30, random_state=1)\n",
    "    model.fit(__X_train, np.ravel(__Y_train))\n",
    "    modelPredOG = model.predict(__X_test)\n",
    "    for cutoff in (85, 90, 94):\n",
    "        modelPred = convertToBinary(modelPredOG, cutoff)\n",
    "        print(\"Accuracy:\", accuracy(modelPred, __Y_test))\n",
    "        print(\"MSE:\", mean_squared_error(modelPred, __Y_test))\n",
    "        print(\"Confusion:\", confusion(modelPred, __Y_test))\n",
    "    return model\n",
    "\n",
    "def runFittedModel(model, __X, __Y, cuttoffPercentile=90):\n",
    "    __X_train, __X_test, __Y_train, __Y_test = train_test_split(__X, __Y, test_size=0.30, random_state=1)\n",
    "    modelPred = model.predict(__X_test)\n",
    "    if any([0.000001 < pr < 0.99999 or pr < -0.000001 for pr in modelPred]):\n",
    "        modelPred = convertToBinary(modelPred, cuttoffPercentile)\n",
    "    conf = confusion(modelPred, __Y_test)\n",
    "    sens = conf[\"TP\"] / (conf[\"TP\"] + conf[\"FN\"])\n",
    "    spec = conf[\"TN\"] / (conf[\"FP\"] + conf[\"TN\"])\n",
    "    print(f\"{model=}\")\n",
    "    print(f\"{accuracy(modelPred, __Y_test)=}\")\n",
    "    print(f\"{mean_squared_error(modelPred, __Y_test)=}\")\n",
    "    print(f\"Confusion: {conf=}\\n\")\n",
    "    print(f\"Sensitivity: {sens}\")\n",
    "    print(f\"Specificity: {spec}\")"
   ]
  },
  {
   "cell_type": "code",
   "execution_count": 9,
   "id": "d9b0483b-4bc3-4afe-892c-97452218a26a",
   "metadata": {},
   "outputs": [],
   "source": [
    "# All: GenHlth, MenHlth, PhysHlth, Age, Education, Diabetes, BMI\n",
    "# Unused: \"GenHlth\", \"Education\", \"Diabetes\", \n",
    "\n",
    "# reduces continuous columns to categories of values in rangles\n",
    "#### after training multiple MLPs, this does not help with overfitting\n",
    "def refactorColsEncode():\n",
    "    __dfX, cols, cache = dfX.copy(), [\"MentHlth\", \"PhysHlth\", \"Age\", \"BMI\"], []\n",
    "    for col in cols:\n",
    "        cache.append(__dfX[col])\n",
    "    __dfX.drop(columns=cols)\n",
    "    for i in range(len(cols)):\n",
    "        __dfX[cols[i]] = array(cache[i]) // len(list(unique(list(dfX[col])))) // 6\n",
    "    return __dfX"
   ]
  },
  {
   "cell_type": "code",
   "execution_count": 12,
   "id": "f6e4e318-9a2a-4cb2-92c6-ebdd2df99570",
   "metadata": {},
   "outputs": [],
   "source": [
    "encoder = OneHotEncoder()\n",
    "\n",
    "X_enc = encoder.fit(X).transform(X).toarray()"
   ]
  },
  {
   "cell_type": "code",
   "execution_count": 25,
   "id": "8d3de9da-ac84-48f8-8e33-cb34b7d7a65d",
   "metadata": {},
   "outputs": [
    {
     "data": {
      "text/plain": [
       "9.418690213392201"
      ]
     },
     "execution_count": 25,
     "metadata": {},
     "output_type": "execute_result"
    }
   ],
   "source": [
    "# percent of ppl with heart disease\n",
    "list(Y_test.ravel()).count(1) / (0.01*len(Y_test))"
   ]
  },
  {
   "cell_type": "code",
   "execution_count": 15,
   "id": "3ace6a5f-a39a-4a87-8411-228fddcdac5e",
   "metadata": {},
   "outputs": [
    {
     "data": {
      "text/plain": [
       "0.4821084208270837"
      ]
     },
     "execution_count": 15,
     "metadata": {},
     "output_type": "execute_result"
    }
   ],
   "source": [
    "# 2015 ppl with heart disease/2016 pop(2015 report, 2016 pop)\n",
    "121.5/(0.78*323.1)"
   ]
  },
  {
   "cell_type": "code",
   "execution_count": 16,
   "id": "b13b3edb-2967-4ca0-a683-77141ebb0a8c",
   "metadata": {},
   "outputs": [
    {
     "name": "stdout",
     "output_type": "stream",
     "text": [
      "Accuracy: 0.8802034058656575\n",
      "MSE: 0.11979659413434247\n",
      "Confusion: {'TP': 2831, 'FP': 4780, 'FN': 4337, 'TN': 64156}\n"
     ]
    }
   ],
   "source": [
    "Lasso1 = runModel(Lasso(alpha=0.000001), X, Y, 90)"
   ]
  },
  {
   "cell_type": "code",
   "execution_count": 18,
   "id": "e7e11e6a-255d-42dd-9e90-ce4adf807e33",
   "metadata": {},
   "outputs": [
    {
     "name": "stdout",
     "output_type": "stream",
     "text": [
      "\n",
      "GBR_NE460_MD3:\n",
      "Accuracy: 0.8573793755912961\n",
      "MSE: 0.14262062440870388\n",
      "Confusion: {'TP': 3865, 'FP': 7551, 'FN': 3303, 'TN': 61385}\n",
      "Accuracy: 0.8842504993167245\n",
      "MSE: 0.11574950068327551\n",
      "Confusion: {'TP': 2985, 'FP': 4626, 'FN': 4183, 'TN': 64310}\n",
      "Accuracy: 0.9005177126038053\n",
      "MSE: 0.09948228739619468\n",
      "Confusion: {'TP': 2082, 'FP': 2485, 'FN': 5086, 'TN': 66451}\n"
     ]
    }
   ],
   "source": [
    "# X_enc is now one hot enc\n",
    "print(\"\\nGBR_NE460_MD3:\")\n",
    "GBR_NE460_MD3 = GradientBoostingRegressor(n_estimators=450, max_depth=3, random_state=1)\n",
    "GBR_NE460_MD3 = runModelGBR(GBR_NE460_MD3, X_enc, Y)"
   ]
  },
  {
   "cell_type": "code",
   "execution_count": 20,
   "id": "8c592f59-f82b-48a6-a7a0-efe64e747327",
   "metadata": {},
   "outputs": [
    {
     "data": {
      "text/plain": [
       "'\\n5/9, 4:32PM, rerunning the Gradient boosted\\nX_enc is completely X_enc, which was how it was og run\\n'"
      ]
     },
     "execution_count": 20,
     "metadata": {},
     "output_type": "execute_result"
    }
   ],
   "source": [
    "\"\"\"\n",
    "5/9, 4:32PM, rerunning the Gradient boosted\n",
    "X_enc is completely X_enc, which was how it was og run\n",
    "\"\"\""
   ]
  },
  {
   "cell_type": "code",
   "execution_count": 23,
   "id": "97cf1127-4a5b-4af5-996b-4d55e97097bb",
   "metadata": {},
   "outputs": [
    {
     "name": "stdout",
     "output_type": "stream",
     "text": [
      "__cutoff=94\n",
      "model=GradientBoostingRegressor(n_estimators=450, random_state=1)\n",
      "accuracy(modelPred, __Y_test)=0.9005177126038053\n",
      "mean_squared_error(modelPred, __Y_test)=0.09948228739619468\n",
      "Confusion: conf={'TP': 2082, 'FP': 2485, 'FN': 5086, 'TN': 66451}\n",
      "\n",
      "Sensitivity: 0.2904575892857143\n",
      "Specificity: 0.9639520714865962\n",
      "\n",
      "\n",
      "__cutoff=90\n",
      "model=GradientBoostingRegressor(n_estimators=450, random_state=1)\n",
      "accuracy(modelPred, __Y_test)=0.8842504993167245\n",
      "mean_squared_error(modelPred, __Y_test)=0.11574950068327551\n",
      "Confusion: conf={'TP': 2985, 'FP': 4626, 'FN': 4183, 'TN': 64310}\n",
      "\n",
      "Sensitivity: 0.4164341517857143\n",
      "Specificity: 0.9328942787513056\n",
      "\n",
      "\n",
      "__cutoff=85\n",
      "model=GradientBoostingRegressor(n_estimators=450, random_state=1)\n",
      "accuracy(modelPred, __Y_test)=0.8573793755912961\n",
      "mean_squared_error(modelPred, __Y_test)=0.14262062440870388\n",
      "Confusion: conf={'TP': 3865, 'FP': 7551, 'FN': 3303, 'TN': 61385}\n",
      "\n",
      "Sensitivity: 0.5392020089285714\n",
      "Specificity: 0.8904636184286875\n",
      "\n",
      "\n",
      "__cutoff=75\n",
      "model=GradientBoostingRegressor(n_estimators=450, random_state=1)\n",
      "accuracy(modelPred, __Y_test)=0.7928098391674551\n",
      "mean_squared_error(modelPred, __Y_test)=0.20719016083254493\n",
      "Confusion: conf={'TP': 5213, 'FP': 13813, 'FN': 1955, 'TN': 55123}\n",
      "\n",
      "Sensitivity: 0.7272600446428571\n",
      "Specificity: 0.7996257398166415\n",
      "\n",
      "\n",
      "__cutoff=48.2\n",
      "model=GradientBoostingRegressor(n_estimators=450, random_state=1)\n",
      "accuracy(modelPred, __Y_test)=0.5646220960790497\n",
      "mean_squared_error(modelPred, __Y_test)=0.43537790392095027\n",
      "Confusion: conf={'TP': 6728, 'FP': 32694, 'FN': 440, 'TN': 36242}\n",
      "\n",
      "Sensitivity: 0.9386160714285714\n",
      "Specificity: 0.5257340141580596\n",
      "\n",
      "\n"
     ]
    }
   ],
   "source": [
    "for __cutoff in (94, 9, 85, 75, 48.2):\n",
    "    print(f\"{__cutoff=}\")\n",
    "    runFittedModel(GBR_NE460_MD3, X_enc, Y, __cutoff)\n",
    "    print(\"\\n\")"
   ]
  },
  {
   "cell_type": "code",
   "execution_count": 27,
   "id": "1590f76b-3742-4204-8979-ea580e42f937",
   "metadata": {},
   "outputs": [
    {
     "name": "stdout",
     "output_type": "stream",
     "text": [
      "model=GradientBoostingRegressor(n_estimators=450, random_state=1)\n",
      "accuracy(modelPred, __Y_test)=0.5984442342058236\n",
      "mean_squared_error(modelPred, __Y_test)=0.4015557657941764\n",
      "Confusion: conf={'TP': 6645, 'FP': 30037, 'FN': 523, 'TN': 38899}\n",
      "\n",
      "Sensitivity: 0.9270368303571429\n",
      "Specificity: 0.5642770105605199\n"
     ]
    }
   ],
   "source": [
    "runFittedModel(GBR_NE460_MD3, X_enc, Y, 51.8)"
   ]
  },
  {
   "cell_type": "code",
   "execution_count": 26,
   "id": "6bc5ff3d-b146-4833-b96f-c6f36146b99b",
   "metadata": {},
   "outputs": [
    {
     "name": "stdout",
     "output_type": "stream",
     "text": [
      "model=GradientBoostingRegressor(n_estimators=450, random_state=1)\n",
      "accuracy(modelPred, __Y_test)=0.8870361610427836\n",
      "mean_squared_error(modelPred, __Y_test)=0.11296383895721644\n",
      "Confusion: conf={'TP': 2870, 'FP': 4299, 'FN': 4298, 'TN': 64637}\n",
      "\n",
      "Sensitivity: 0.400390625\n",
      "Specificity: 0.9376378089822444\n"
     ]
    }
   ],
   "source": [
    "runFittedModel(GBR_NE460_MD3, X_enc, Y, 90.58)"
   ]
  }
 ],
 "metadata": {
  "kernelspec": {
   "display_name": "Python 3 (ipykernel)",
   "language": "python",
   "name": "python3"
  },
  "language_info": {
   "codemirror_mode": {
    "name": "ipython",
    "version": 3
   },
   "file_extension": ".py",
   "mimetype": "text/x-python",
   "name": "python",
   "nbconvert_exporter": "python",
   "pygments_lexer": "ipython3",
   "version": "3.10.4"
  }
 },
 "nbformat": 4,
 "nbformat_minor": 5
}
